{
 "cells": [
  {
   "cell_type": "markdown",
   "metadata": {},
   "source": [
    "This notebook will use monte-carlo techniques to reveal the expected outcome of each simulated scenario"
   ]
  },
  {
   "cell_type": "code",
   "execution_count": 1,
   "metadata": {},
   "outputs": [],
   "source": [
    "import numpy as np\n",
    "import matplotlib.pyplot as plt\n",
    "from IPython.display import clear_output\n",
    "from matplotlib import animation, rc\n",
    "from IPython.display import HTML\n",
    "from tqdm import tqdm\n",
    "rc('animation', html='jshtml')"
   ]
  },
  {
   "cell_type": "code",
   "execution_count": 2,
   "metadata": {},
   "outputs": [],
   "source": [
    "#The following will simulate that the proportion P will have preventative medicine.]\n",
    "#With an effectiveness of prevention of E per exposure\n",
    "def sim(N=100, a = 2.0, steps=100, mu=0.1, I=1, R=10, P=0.5, E=0.5, dist=0.02, inc=5, \n",
    "       behav=\"levy\", mr=0.09):\n",
    "    #I is the number of infected at t = 0\n",
    "    #R is the number of timesteps it takes to recover or die\n",
    "    #dist is the \"contact\" range\n",
    "    \n",
    "    colors = np.zeros((steps + 1, N)) #Visually signify the states of the model\n",
    "    r_time = np.zeros((steps + 1, N))\n",
    "    walkers = np.zeros((steps + 1, N, 2)) #N walkers with 2-D coordinates describing their location\n",
    "    i_num = 256\n",
    "    r_num = 128\n",
    "    p_num = 64\n",
    "    d_num = 192\n",
    "    \n",
    "    #Initialize the infected\n",
    "    for j in range(I):\n",
    "        colors[0][j] = i_num\n",
    "        colors[1][j] = i_num\n",
    "        r_time[0][j] = R + inc\n",
    "    \n",
    "    for j in range(int(N*P)):\n",
    "        colors[0][N-j-1] = p_num\n",
    "        colors[1][N-j-1] = p_num\n",
    "            \n",
    "    for t in range(steps):\n",
    "        if t == 0:\n",
    "            walkers[0] = np.random.uniform(-a, a, (N , 2))\n",
    "            continue\n",
    "        colors[t] = colors[t-1]\n",
    "        for i in range(N):\n",
    "            #Generate a random number between 0 & 2pi\n",
    "            angle = np.random.rand() * 2 * np.pi\n",
    "            \n",
    "            step = 0\n",
    "            if behav is \"levy\":\n",
    "                step = np.random.exponential(mu)\n",
    "            elif behav is \"uniform\":\n",
    "                step = np.random.rand()*2*mu\n",
    "            elif behav is \"normal\":\n",
    "                step = np.random.normal(mu, 0.01)\n",
    "            else: #No varying stepsize\n",
    "                step = mu\n",
    "                \n",
    "            newX = walkers[t - 1][i][0] + np.sin(angle)*step \n",
    "            newY = walkers[t - 1][i][1] + np.cos(angle)*step\n",
    "            newX = max(min(newX, a), -a)\n",
    "            newY = max(min(newY, a), -a)\n",
    "            walkers[t][i][0] = newX\n",
    "            walkers[t][i][1] = newY\n",
    "        \n",
    "        #state check.. update infected\n",
    "        current_walkers = walkers[t]\n",
    "        exposed = np.zeros(N)\n",
    "        for i in range(N):\n",
    "            if colors[t][i] == i_num: #If you are infected\n",
    "                r_time[t][i] = r_time[t-1][i] - 1 #Increment Recovery\n",
    "                if r_time[t][i] <= R:\n",
    "                    distances = current_walkers - current_walkers[i] #Find those you exposed\n",
    "                    distances = np.sum(np.square(distances), axis=-1)\n",
    "                    distances = np.where(distances <= np.square(dist), 1, 0)\n",
    "                    exposed += distances #Add the exposed to the exposed list\n",
    "                \n",
    "        for i in range(N):\n",
    "            if r_time[t][i] < 0.0: #If your recovery time has ended\n",
    "                #Roll for death according to mortality rate\n",
    "                roll = np.random.rand()\n",
    "                if roll <= mr:\n",
    "                    colors[t][i] = d_num\n",
    "                else:\n",
    "                    colors[t][i] = r_num\n",
    "            else:\n",
    "                if exposed[i] > 0.0:\n",
    "                    if colors[t][i] == 0.0: #If the exposed individual is vulnerable\n",
    "                        colors[t][i] = i_num\n",
    "                        r_time[t][i] = R\n",
    "                    if colors[t][i] == p_num: #If the exposed is taking medication\n",
    "                        prob_infect = 1 - (E)**exposed[i]\n",
    "                        if np.random.rand() <= prob_infect:\n",
    "                            colors[t][i] = i_num\n",
    "                            r_time[t][i] = R + inc\n",
    "    return walkers, colors"
   ]
  },
  {
   "cell_type": "code",
   "execution_count": 3,
   "metadata": {},
   "outputs": [],
   "source": [
    "def update_plot(t, offset, colors, scat):\n",
    "    scat.set_offsets(offset[t])\n",
    "    scat.set_array(colors[t])\n",
    "    num_infected = sum(colors[t] == 256) # 256 is infected number\n",
    "    num_recovered = sum(colors[t] == 128) # 128 is recovered number\n",
    "    num_medicated = sum(colors[t] == 64) #64 is medicated number\n",
    "    num_vulnerable = sum(colors[t] == 0) # 0 is the default number\n",
    "    counts[0].set_text(f\"infected: {num_infected}\")\n",
    "    counts[1].set_text(f\"recovered: {num_recovered}\")\n",
    "    counts[2].set_text(f\"vulnerable: {num_vulnerable}\")\n",
    "    counts[3].set_text(f\"medicated: {num_medicated}\")\n",
    "    return scat\n",
    "\n",
    "def plot_infection(colors, steps):\n",
    "    X = []\n",
    "    Y = []\n",
    "    Z = []\n",
    "    for t in range(steps):\n",
    "        X.append(t)\n",
    "        infected = np.where(colors[t] == 256, 1, 0)\n",
    "        deaths = np.where(colors[t] == 192, 1, 0)\n",
    "        infected = np.sum(infected) / len(infected)\n",
    "        deaths = np.sum(deaths)/ len(deaths)\n",
    "        \n",
    "        Y.append(infected)\n",
    "        Z.append(deaths)\n",
    "        \n",
    "        \n",
    "    return X, Y, Z"
   ]
  },
  {
   "cell_type": "code",
   "execution_count": 4,
   "metadata": {},
   "outputs": [],
   "source": [
    "sims = int(1e2) #Number of simulations\n",
    "\n",
    "#Hyperparameters for simulations (Population Density assumed to be 2455 per square mile)\n",
    "a = np.sqrt(100/2455)/2 #Simulate 100/2455 sq miles to get appropriate density\n",
    "N = 100 #Number of people\n",
    "steps = 200 #Number of time steps\n",
    "R = 17 #Onset of Symptoms to Recovery/Death\n",
    "inc = 5 #Incubation period of virus after infection\n",
    "dist = 19.685/5280.0 #Proximity for Exposure (6ft)\n",
    "mu =  100/5280.0 #Average size of movement\n",
    "mr = 8969.0/85745.0 #Mortality rate among infected individuals\n",
    "P = 0.45 #Proportion taking medicine\n",
    "E = 0.88 #Effectiveness per exposure"
   ]
  },
  {
   "cell_type": "code",
   "execution_count": 5,
   "metadata": {},
   "outputs": [],
   "source": [
    "def monte_carlo_sim(a, N, steps, R, dist, mu, P, E, inc, behav=\"uniform\", sims=int(1e2), mr=0.09):\n",
    "    Y = [] #Running Sum\n",
    "    Y_sq = [] #Running Square Sum\n",
    "    \n",
    "    Z = []\n",
    "    Z_sq = []\n",
    "    for i in tqdm(range(sims)):\n",
    "        #Simulate\n",
    "        _, colors = sim(N=N, a=a, steps=steps, R=R, dist=dist, mu=mu,\n",
    "                                       P=P, E=E, behav=behav, inc=inc, mr=mr)\n",
    "        x, y, z = plot_infection(colors, steps) #Get metadata\n",
    "        #Calculate running moments\n",
    "        if i == 0:\n",
    "            x = np.array(x)\n",
    "            y = np.array(y)\n",
    "            z = np.array(z)\n",
    "            X = x\n",
    "            Y = y\n",
    "            Y_sq = np.square(y)\n",
    "            Z = z\n",
    "            Z_sq = np.square(z)\n",
    "        else:\n",
    "            y = np.array(y)\n",
    "            z = np.array(z)\n",
    "            Y += y\n",
    "            Z += z\n",
    "            Y_sq += np.square(y)\n",
    "            Z_sq += np.square(z)\n",
    "            \n",
    "    return X, Y, Y_sq, Z, Z_sq"
   ]
  },
  {
   "cell_type": "code",
   "execution_count": 6,
   "metadata": {},
   "outputs": [],
   "source": [
    "def plot_error(X, Y, Y_sq, Z, Z_sq, behav, c=0):\n",
    "    Y_avg = Y/sims\n",
    "    Y_std = np.sqrt((Y_sq - (np.square(Y)/sims))/sims)\n",
    "    plt.errorbar(X, Y_avg, yerr=(2*Y_std))\n",
    "    \n",
    "    Z_avg = Z/sims\n",
    "    Z_std = np.sqrt((Z_sq - (np.square(Z)/sims))/sims)\n",
    "    plt.errorbar(X, Z_avg, yerr=(2*Z_std))\n",
    "    \n",
    "    plt.xlim(0, 200)\n",
    "    plt.ylim(0, 0.7)\n",
    "    plt.xlabel(\"Time (Days)\")\n",
    "    plt.ylabel(\"Percent of People Infectious (Contagious)\")\n",
    "    plt.title(\"Expected Infection over \" + str(sims) + \" simulations for \" + behav)\n",
    "    plt.show()"
   ]
  },
  {
   "cell_type": "code",
   "execution_count": 7,
   "metadata": {},
   "outputs": [
    {
     "name": "stderr",
     "output_type": "stream",
     "text": [
      "100%|████████████████████████████████████████████████████████████████████████████████| 100/100 [00:17<00:00,  5.66it/s]\n"
     ]
    }
   ],
   "source": [
    "X, Y, Y_sq, Z, Z_sq = monte_carlo_sim(a, N, steps, R, dist, mu, 0.0, 0.0, inc, behav=\"uniform\", sims=sims, mr=mr)"
   ]
  },
  {
   "cell_type": "code",
   "execution_count": 8,
   "metadata": {},
   "outputs": [
    {
     "name": "stderr",
     "output_type": "stream",
     "text": [
      "c:\\users\\philip felizarta\\.conda\\envs\\tf_gpu\\lib\\site-packages\\ipykernel_launcher.py:3: RuntimeWarning: invalid value encountered in sqrt\n",
      "  This is separate from the ipykernel package so we can avoid doing imports until\n"
     ]
    },
    {
     "data": {
      "image/png": "[encoded data removed]",
      "text/plain": [
       "<Figure size 432x288 with 1 Axes>"
      ]
     },
     "metadata": {
      "needs_background": "light"
     },
     "output_type": "display_data"
    }
   ],
   "source": [
    "plot_error(X, Y, Y_sq, Z, Z_sq, \"uniform\", c=0)"
   ]
  },
  {
   "cell_type": "code",
   "execution_count": 9,
   "metadata": {},
   "outputs": [
    {
     "name": "stderr",
     "output_type": "stream",
     "text": [
      "100%|████████████████████████████████████████████████████████████████████████████████| 100/100 [00:20<00:00,  4.90it/s]\n"
     ]
    }
   ],
   "source": [
    "X, Y, Y_sq, Z, Z_sq = monte_carlo_sim(a, N, steps, R, dist, mu, 0.0, 0.0, inc, behav=\"levy\", sims=sims, mr=mr)"
   ]
  },
  {
   "cell_type": "code",
   "execution_count": 10,
   "metadata": {},
   "outputs": [
    {
     "name": "stderr",
     "output_type": "stream",
     "text": [
      "c:\\users\\philip felizarta\\.conda\\envs\\tf_gpu\\lib\\site-packages\\ipykernel_launcher.py:3: RuntimeWarning: invalid value encountered in sqrt\n",
      "  This is separate from the ipykernel package so we can avoid doing imports until\n"
     ]
    },
    {
     "data": {
      "image/png": "[encoded data removed]",
      "text/plain": [
       "<Figure size 432x288 with 1 Axes>"
      ]
     },
     "metadata": {
      "needs_background": "light"
     },
     "output_type": "display_data"
    }
   ],
   "source": [
    "plot_error(X, Y, Y_sq, Z, Z_sq, \"levy\", c=64)"
   ]
  },
  {
   "cell_type": "code",
   "execution_count": 11,
   "metadata": {},
   "outputs": [
    {
     "name": "stderr",
     "output_type": "stream",
     "text": [
      "100%|████████████████████████████████████████████████████████████████████████████████| 100/100 [00:16<00:00,  6.04it/s]\n"
     ]
    }
   ],
   "source": [
    "X, Y, Y_sq, Z, Z_sq = monte_carlo_sim(a, N, steps, R, dist, mu, P, E, inc, behav=\"uniform\", sims=sims, mr=mr)"
   ]
  },
  {
   "cell_type": "code",
   "execution_count": 12,
   "metadata": {},
   "outputs": [
    {
     "name": "stderr",
     "output_type": "stream",
     "text": [
      "c:\\users\\philip felizarta\\.conda\\envs\\tf_gpu\\lib\\site-packages\\ipykernel_launcher.py:3: RuntimeWarning: invalid value encountered in sqrt\n",
      "  This is separate from the ipykernel package so we can avoid doing imports until\n"
     ]
    },
    {
     "data": {
      "image/png": "[encoded data removed]",
      "text/plain": [
       "<Figure size 432x288 with 1 Axes>"
      ]
     },
     "metadata": {
      "needs_background": "light"
     },
     "output_type": "display_data"
    }
   ],
   "source": [
    "plot_error(X, Y, Y_sq, Z, Z_sq,  \"uniform\", c=128)"
   ]
  },
  {
   "cell_type": "code",
   "execution_count": 13,
   "metadata": {},
   "outputs": [
    {
     "name": "stderr",
     "output_type": "stream",
     "text": [
      "100%|████████████████████████████████████████████████████████████████████████████████| 100/100 [00:18<00:00,  5.28it/s]\n"
     ]
    }
   ],
   "source": [
    "X, Y, Y_sq, Z, Z_sq = monte_carlo_sim(a, N, steps, R, dist, mu, P, E, inc, behav=\"levy\", sims=sims, mr=mr)"
   ]
  },
  {
   "cell_type": "code",
   "execution_count": 14,
   "metadata": {},
   "outputs": [
    {
     "ename": "SyntaxError",
     "evalue": "invalid syntax (<ipython-input-14-41fa98fc243f>, line 1)",
     "output_type": "error",
     "traceback": [
      "\u001b[1;36m  File \u001b[1;32m\"<ipython-input-14-41fa98fc243f>\"\u001b[1;36m, line \u001b[1;32m1\u001b[0m\n\u001b[1;33m    plot_error(X, Y, Y_sq, Z, Z_sq \"levy\", c=256)\u001b[0m\n\u001b[1;37m                                        ^\u001b[0m\n\u001b[1;31mSyntaxError\u001b[0m\u001b[1;31m:\u001b[0m invalid syntax\n"
     ]
    }
   ],
   "source": [
    "plot_error(X, Y, Y_sq, Z, Z_sq \"levy\", c=256)"
   ]
  },
  {
   "cell_type": "code",
   "execution_count": null,
   "metadata": {},
   "outputs": [],
   "source": []
  },
  {
   "cell_type": "code",
   "execution_count": null,
   "metadata": {},
   "outputs": [],
   "source": []
  }
 ],
 "metadata": {
  "kernelspec": {
   "display_name": "Python 3",
   "language": "python",
   "name": "python3"
  },
  "language_info": {
   "codemirror_mode": {
    "name": "ipython",
    "version": 3
   },
   "file_extension": ".py",
   "mimetype": "text/x-python",
   "name": "python",
   "nbconvert_exporter": "python",
   "pygments_lexer": "ipython3",
   "version": "3.7.4"
  }
 },
 "nbformat": 4,
 "nbformat_minor": 2
}
